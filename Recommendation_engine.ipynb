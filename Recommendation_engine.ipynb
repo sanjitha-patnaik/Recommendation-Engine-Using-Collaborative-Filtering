{
  "nbformat": 4,
  "nbformat_minor": 0,
  "metadata": {
    "colab": {
      "provenance": []
    },
    "kernelspec": {
      "name": "python3",
      "display_name": "Python 3"
    },
    "language_info": {
      "name": "python"
    }
  },
  "cells": [
    {
      "cell_type": "code",
      "execution_count": 18,
      "metadata": {
        "colab": {
          "base_uri": "https://localhost:8080/"
        },
        "id": "19JIJgx3neVo",
        "outputId": "d6be9ba3-f37e-45b9-851c-9c8bd422556e"
      },
      "outputs": [
        {
          "output_type": "stream",
          "name": "stdout",
          "text": [
            "Requirement already satisfied: pandas in /usr/local/lib/python3.10/dist-packages (2.1.4)\n",
            "Requirement already satisfied: numpy in /usr/local/lib/python3.10/dist-packages (1.26.4)\n",
            "Requirement already satisfied: surprise in /usr/local/lib/python3.10/dist-packages (0.1)\n",
            "Requirement already satisfied: python-dateutil>=2.8.2 in /usr/local/lib/python3.10/dist-packages (from pandas) (2.8.2)\n",
            "Requirement already satisfied: pytz>=2020.1 in /usr/local/lib/python3.10/dist-packages (from pandas) (2024.2)\n",
            "Requirement already satisfied: tzdata>=2022.1 in /usr/local/lib/python3.10/dist-packages (from pandas) (2024.1)\n",
            "Requirement already satisfied: scikit-surprise in /usr/local/lib/python3.10/dist-packages (from surprise) (1.1.4)\n",
            "Requirement already satisfied: six>=1.5 in /usr/local/lib/python3.10/dist-packages (from python-dateutil>=2.8.2->pandas) (1.16.0)\n",
            "Requirement already satisfied: joblib>=1.2.0 in /usr/local/lib/python3.10/dist-packages (from scikit-surprise->surprise) (1.4.2)\n",
            "Requirement already satisfied: scipy>=1.6.0 in /usr/local/lib/python3.10/dist-packages (from scikit-surprise->surprise) (1.13.1)\n"
          ]
        }
      ],
      "source": [
        "!pip install pandas numpy surprise\n"
      ]
    },
    {
      "cell_type": "markdown",
      "source": [
        "**Importing libraries**"
      ],
      "metadata": {
        "id": "gCR474VPtAjR"
      }
    },
    {
      "cell_type": "code",
      "source": [
        "import pandas as pd\n",
        "from surprise import Dataset, Reader\n",
        "from surprise import SVD, SVDpp, KNNBasic\n",
        "from surprise.model_selection import train_test_split\n",
        "from surprise import accuracy\n",
        "\n",
        "# Load the data from Excel files\n",
        "ratings_df = pd.read_excel('ratings.xlsx')  # Load ratings data from an Excel file\n",
        "movies_df = pd.read_excel('movies.xlsx')    # Load movie data from an Excel file\n",
        "\n",
        "# Display the first few rows of the ratings dataset\n",
        "print(ratings_df.head())\n"
      ],
      "metadata": {
        "colab": {
          "base_uri": "https://localhost:8080/"
        },
        "id": "zv8cnDYwnxXG",
        "outputId": "1ea0fba3-10a9-47bd-8529-a3ce61bb07f8"
      },
      "execution_count": 19,
      "outputs": [
        {
          "output_type": "stream",
          "name": "stdout",
          "text": [
            "  userId movieId rating            timestamp\n",
            "0      1       2    3.5  2005-04-02 23:53:47\n",
            "1      1      29    3.5  2005-04-02 23:31:16\n",
            "2      1      32    3.5  2005-04-02 23:33:39\n",
            "3      1      47    3.5  2005-04-02 23:32:07\n",
            "4      1      50    3.5  2005-04-02 23:29:40\n"
          ]
        }
      ]
    },
    {
      "cell_type": "markdown",
      "source": [
        "**Data Pre-Processing**"
      ],
      "metadata": {
        "id": "P3FIfLj9tGxJ"
      }
    },
    {
      "cell_type": "code",
      "source": [
        "# Check for missing values\n",
        "print(ratings_df.isnull().sum())\n",
        "\n",
        "# Drop any NaN values if present\n",
        "ratings_df = ratings_df.dropna()\n",
        "\n",
        "# Merge ratings with movie titles\n",
        "ratings_movies = pd.merge(ratings_df, movies_df, on='movieId')\n",
        "\n",
        "# Select only the required columns\n",
        "ratings_movies = ratings_movies[['userId', 'movieId', 'rating']]\n"
      ],
      "metadata": {
        "colab": {
          "base_uri": "https://localhost:8080/"
        },
        "id": "IVVNxjycoGXE",
        "outputId": "1a16bd25-51e9-4d54-ef97-bf5fa59fcc75"
      },
      "execution_count": 22,
      "outputs": [
        {
          "output_type": "stream",
          "name": "stdout",
          "text": [
            "userId       0\n",
            "movieId      0\n",
            "rating       0\n",
            "timestamp    0\n",
            "dtype: int64\n"
          ]
        }
      ]
    },
    {
      "cell_type": "markdown",
      "source": [
        "**Prepare Data for the Surprise Library**"
      ],
      "metadata": {
        "id": "v7bClrfAtQSB"
      }
    },
    {
      "cell_type": "code",
      "source": [
        "# Define the reader with a rating scale\n",
        "reader = Reader(rating_scale=(0.5, 5.0))  # Assuming ratings range from 0.5 to 5\n",
        "\n",
        "# Load the dataset into Surprise's format\n",
        "data = Dataset.load_from_df(ratings_movies[['userId', 'movieId', 'rating']], reader)\n"
      ],
      "metadata": {
        "id": "jwV9A_VVoJFN"
      },
      "execution_count": 26,
      "outputs": []
    },
    {
      "cell_type": "code",
      "source": [
        "import pandas as pd\n",
        "from surprise import Dataset, Reader\n",
        "from surprise import SVD, SVDpp, KNNBasic\n",
        "from surprise.model_selection import train_test_split\n",
        "from surprise import accuracy\n",
        "\n",
        "# Load the data from Excel files\n",
        "ratings_movies = pd.read_excel('ratings.xlsx')  # Load ratings data from an Excel file\n",
        "movies_df = pd.read_excel('movies.xlsx')         # Load movie data from an Excel file\n",
        "\n",
        "# Display the first few rows of the ratings dataset\n",
        "print(ratings_movies.head())\n",
        "\n",
        "# Convert the 'rating' column to numeric, coercing errors\n",
        "ratings_movies['rating'] = pd.to_numeric(ratings_movies['rating'], errors='coerce')\n",
        "\n",
        "# Drop rows with NaN values in the rating column\n",
        "ratings_movies.dropna(subset=['rating'], inplace=True)\n",
        "\n",
        "# Define the reader with a rating scale\n",
        "reader = Reader(rating_scale=(0.5, 5.0))  # Assuming ratings range from 0.5 to 5\n",
        "\n",
        "# Load the dataset into Surprise's format\n",
        "data = Dataset.load_from_df(ratings_movies[['userId', 'movieId', 'rating']], reader)\n",
        "\n",
        "\n"
      ],
      "metadata": {
        "colab": {
          "base_uri": "https://localhost:8080/"
        },
        "id": "WOA0AfdgsB_2",
        "outputId": "a2afc6fc-ae46-4a41-ff1e-5af302435bff"
      },
      "execution_count": 34,
      "outputs": [
        {
          "output_type": "stream",
          "name": "stdout",
          "text": [
            "  userId movieId rating            timestamp\n",
            "0      1       2    3.5  2005-04-02 23:53:47\n",
            "1      1      29    3.5  2005-04-02 23:31:16\n",
            "2      1      32    3.5  2005-04-02 23:33:39\n",
            "3      1      47    3.5  2005-04-02 23:32:07\n",
            "4      1      50    3.5  2005-04-02 23:29:40\n"
          ]
        }
      ]
    },
    {
      "cell_type": "markdown",
      "source": [
        " Split Data into Training and Test Sets"
      ],
      "metadata": {
        "id": "LQY2dsIDtVx0"
      }
    },
    {
      "cell_type": "code",
      "source": [
        "trainset, testset = train_test_split(data, test_size=0.2)\n"
      ],
      "metadata": {
        "id": "sB3H50qjoOBN"
      },
      "execution_count": 27,
      "outputs": []
    },
    {
      "cell_type": "code",
      "source": [
        "ratings_movies.describe()"
      ],
      "metadata": {
        "colab": {
          "base_uri": "https://localhost:8080/",
          "height": 300
        },
        "id": "0E9Qz37JoQIu",
        "outputId": "aff4c45f-1909-4331-ed42-0f09e8e25289"
      },
      "execution_count": 28,
      "outputs": [
        {
          "output_type": "execute_result",
          "data": {
            "text/plain": [
              "            rating\n",
              "count  9991.000000\n",
              "mean      1.502339\n",
              "std       1.457490\n",
              "min      -0.971750\n",
              "25%       0.265295\n",
              "50%       1.495405\n",
              "75%       2.693815\n",
              "max       5.000000"
            ],
            "text/html": [
              "\n",
              "  <div id=\"df-5e70685a-1cc8-472c-8eaf-c7087db0be40\" class=\"colab-df-container\">\n",
              "    <div>\n",
              "<style scoped>\n",
              "    .dataframe tbody tr th:only-of-type {\n",
              "        vertical-align: middle;\n",
              "    }\n",
              "\n",
              "    .dataframe tbody tr th {\n",
              "        vertical-align: top;\n",
              "    }\n",
              "\n",
              "    .dataframe thead th {\n",
              "        text-align: right;\n",
              "    }\n",
              "</style>\n",
              "<table border=\"1\" class=\"dataframe\">\n",
              "  <thead>\n",
              "    <tr style=\"text-align: right;\">\n",
              "      <th></th>\n",
              "      <th>rating</th>\n",
              "    </tr>\n",
              "  </thead>\n",
              "  <tbody>\n",
              "    <tr>\n",
              "      <th>count</th>\n",
              "      <td>9991.000000</td>\n",
              "    </tr>\n",
              "    <tr>\n",
              "      <th>mean</th>\n",
              "      <td>1.502339</td>\n",
              "    </tr>\n",
              "    <tr>\n",
              "      <th>std</th>\n",
              "      <td>1.457490</td>\n",
              "    </tr>\n",
              "    <tr>\n",
              "      <th>min</th>\n",
              "      <td>-0.971750</td>\n",
              "    </tr>\n",
              "    <tr>\n",
              "      <th>25%</th>\n",
              "      <td>0.265295</td>\n",
              "    </tr>\n",
              "    <tr>\n",
              "      <th>50%</th>\n",
              "      <td>1.495405</td>\n",
              "    </tr>\n",
              "    <tr>\n",
              "      <th>75%</th>\n",
              "      <td>2.693815</td>\n",
              "    </tr>\n",
              "    <tr>\n",
              "      <th>max</th>\n",
              "      <td>5.000000</td>\n",
              "    </tr>\n",
              "  </tbody>\n",
              "</table>\n",
              "</div>\n",
              "    <div class=\"colab-df-buttons\">\n",
              "\n",
              "  <div class=\"colab-df-container\">\n",
              "    <button class=\"colab-df-convert\" onclick=\"convertToInteractive('df-5e70685a-1cc8-472c-8eaf-c7087db0be40')\"\n",
              "            title=\"Convert this dataframe to an interactive table.\"\n",
              "            style=\"display:none;\">\n",
              "\n",
              "  <svg xmlns=\"http://www.w3.org/2000/svg\" height=\"24px\" viewBox=\"0 -960 960 960\">\n",
              "    <path d=\"M120-120v-720h720v720H120Zm60-500h600v-160H180v160Zm220 220h160v-160H400v160Zm0 220h160v-160H400v160ZM180-400h160v-160H180v160Zm440 0h160v-160H620v160ZM180-180h160v-160H180v160Zm440 0h160v-160H620v160Z\"/>\n",
              "  </svg>\n",
              "    </button>\n",
              "\n",
              "  <style>\n",
              "    .colab-df-container {\n",
              "      display:flex;\n",
              "      gap: 12px;\n",
              "    }\n",
              "\n",
              "    .colab-df-convert {\n",
              "      background-color: #E8F0FE;\n",
              "      border: none;\n",
              "      border-radius: 50%;\n",
              "      cursor: pointer;\n",
              "      display: none;\n",
              "      fill: #1967D2;\n",
              "      height: 32px;\n",
              "      padding: 0 0 0 0;\n",
              "      width: 32px;\n",
              "    }\n",
              "\n",
              "    .colab-df-convert:hover {\n",
              "      background-color: #E2EBFA;\n",
              "      box-shadow: 0px 1px 2px rgba(60, 64, 67, 0.3), 0px 1px 3px 1px rgba(60, 64, 67, 0.15);\n",
              "      fill: #174EA6;\n",
              "    }\n",
              "\n",
              "    .colab-df-buttons div {\n",
              "      margin-bottom: 4px;\n",
              "    }\n",
              "\n",
              "    [theme=dark] .colab-df-convert {\n",
              "      background-color: #3B4455;\n",
              "      fill: #D2E3FC;\n",
              "    }\n",
              "\n",
              "    [theme=dark] .colab-df-convert:hover {\n",
              "      background-color: #434B5C;\n",
              "      box-shadow: 0px 1px 3px 1px rgba(0, 0, 0, 0.15);\n",
              "      filter: drop-shadow(0px 1px 2px rgba(0, 0, 0, 0.3));\n",
              "      fill: #FFFFFF;\n",
              "    }\n",
              "  </style>\n",
              "\n",
              "    <script>\n",
              "      const buttonEl =\n",
              "        document.querySelector('#df-5e70685a-1cc8-472c-8eaf-c7087db0be40 button.colab-df-convert');\n",
              "      buttonEl.style.display =\n",
              "        google.colab.kernel.accessAllowed ? 'block' : 'none';\n",
              "\n",
              "      async function convertToInteractive(key) {\n",
              "        const element = document.querySelector('#df-5e70685a-1cc8-472c-8eaf-c7087db0be40');\n",
              "        const dataTable =\n",
              "          await google.colab.kernel.invokeFunction('convertToInteractive',\n",
              "                                                    [key], {});\n",
              "        if (!dataTable) return;\n",
              "\n",
              "        const docLinkHtml = 'Like what you see? Visit the ' +\n",
              "          '<a target=\"_blank\" href=https://colab.research.google.com/notebooks/data_table.ipynb>data table notebook</a>'\n",
              "          + ' to learn more about interactive tables.';\n",
              "        element.innerHTML = '';\n",
              "        dataTable['output_type'] = 'display_data';\n",
              "        await google.colab.output.renderOutput(dataTable, element);\n",
              "        const docLink = document.createElement('div');\n",
              "        docLink.innerHTML = docLinkHtml;\n",
              "        element.appendChild(docLink);\n",
              "      }\n",
              "    </script>\n",
              "  </div>\n",
              "\n",
              "\n",
              "<div id=\"df-dd3f8af4-e0ee-4cf2-8e2c-e8f9f30c9175\">\n",
              "  <button class=\"colab-df-quickchart\" onclick=\"quickchart('df-dd3f8af4-e0ee-4cf2-8e2c-e8f9f30c9175')\"\n",
              "            title=\"Suggest charts\"\n",
              "            style=\"display:none;\">\n",
              "\n",
              "<svg xmlns=\"http://www.w3.org/2000/svg\" height=\"24px\"viewBox=\"0 0 24 24\"\n",
              "     width=\"24px\">\n",
              "    <g>\n",
              "        <path d=\"M19 3H5c-1.1 0-2 .9-2 2v14c0 1.1.9 2 2 2h14c1.1 0 2-.9 2-2V5c0-1.1-.9-2-2-2zM9 17H7v-7h2v7zm4 0h-2V7h2v10zm4 0h-2v-4h2v4z\"/>\n",
              "    </g>\n",
              "</svg>\n",
              "  </button>\n",
              "\n",
              "<style>\n",
              "  .colab-df-quickchart {\n",
              "      --bg-color: #E8F0FE;\n",
              "      --fill-color: #1967D2;\n",
              "      --hover-bg-color: #E2EBFA;\n",
              "      --hover-fill-color: #174EA6;\n",
              "      --disabled-fill-color: #AAA;\n",
              "      --disabled-bg-color: #DDD;\n",
              "  }\n",
              "\n",
              "  [theme=dark] .colab-df-quickchart {\n",
              "      --bg-color: #3B4455;\n",
              "      --fill-color: #D2E3FC;\n",
              "      --hover-bg-color: #434B5C;\n",
              "      --hover-fill-color: #FFFFFF;\n",
              "      --disabled-bg-color: #3B4455;\n",
              "      --disabled-fill-color: #666;\n",
              "  }\n",
              "\n",
              "  .colab-df-quickchart {\n",
              "    background-color: var(--bg-color);\n",
              "    border: none;\n",
              "    border-radius: 50%;\n",
              "    cursor: pointer;\n",
              "    display: none;\n",
              "    fill: var(--fill-color);\n",
              "    height: 32px;\n",
              "    padding: 0;\n",
              "    width: 32px;\n",
              "  }\n",
              "\n",
              "  .colab-df-quickchart:hover {\n",
              "    background-color: var(--hover-bg-color);\n",
              "    box-shadow: 0 1px 2px rgba(60, 64, 67, 0.3), 0 1px 3px 1px rgba(60, 64, 67, 0.15);\n",
              "    fill: var(--button-hover-fill-color);\n",
              "  }\n",
              "\n",
              "  .colab-df-quickchart-complete:disabled,\n",
              "  .colab-df-quickchart-complete:disabled:hover {\n",
              "    background-color: var(--disabled-bg-color);\n",
              "    fill: var(--disabled-fill-color);\n",
              "    box-shadow: none;\n",
              "  }\n",
              "\n",
              "  .colab-df-spinner {\n",
              "    border: 2px solid var(--fill-color);\n",
              "    border-color: transparent;\n",
              "    border-bottom-color: var(--fill-color);\n",
              "    animation:\n",
              "      spin 1s steps(1) infinite;\n",
              "  }\n",
              "\n",
              "  @keyframes spin {\n",
              "    0% {\n",
              "      border-color: transparent;\n",
              "      border-bottom-color: var(--fill-color);\n",
              "      border-left-color: var(--fill-color);\n",
              "    }\n",
              "    20% {\n",
              "      border-color: transparent;\n",
              "      border-left-color: var(--fill-color);\n",
              "      border-top-color: var(--fill-color);\n",
              "    }\n",
              "    30% {\n",
              "      border-color: transparent;\n",
              "      border-left-color: var(--fill-color);\n",
              "      border-top-color: var(--fill-color);\n",
              "      border-right-color: var(--fill-color);\n",
              "    }\n",
              "    40% {\n",
              "      border-color: transparent;\n",
              "      border-right-color: var(--fill-color);\n",
              "      border-top-color: var(--fill-color);\n",
              "    }\n",
              "    60% {\n",
              "      border-color: transparent;\n",
              "      border-right-color: var(--fill-color);\n",
              "    }\n",
              "    80% {\n",
              "      border-color: transparent;\n",
              "      border-right-color: var(--fill-color);\n",
              "      border-bottom-color: var(--fill-color);\n",
              "    }\n",
              "    90% {\n",
              "      border-color: transparent;\n",
              "      border-bottom-color: var(--fill-color);\n",
              "    }\n",
              "  }\n",
              "</style>\n",
              "\n",
              "  <script>\n",
              "    async function quickchart(key) {\n",
              "      const quickchartButtonEl =\n",
              "        document.querySelector('#' + key + ' button');\n",
              "      quickchartButtonEl.disabled = true;  // To prevent multiple clicks.\n",
              "      quickchartButtonEl.classList.add('colab-df-spinner');\n",
              "      try {\n",
              "        const charts = await google.colab.kernel.invokeFunction(\n",
              "            'suggestCharts', [key], {});\n",
              "      } catch (error) {\n",
              "        console.error('Error during call to suggestCharts:', error);\n",
              "      }\n",
              "      quickchartButtonEl.classList.remove('colab-df-spinner');\n",
              "      quickchartButtonEl.classList.add('colab-df-quickchart-complete');\n",
              "    }\n",
              "    (() => {\n",
              "      let quickchartButtonEl =\n",
              "        document.querySelector('#df-dd3f8af4-e0ee-4cf2-8e2c-e8f9f30c9175 button');\n",
              "      quickchartButtonEl.style.display =\n",
              "        google.colab.kernel.accessAllowed ? 'block' : 'none';\n",
              "    })();\n",
              "  </script>\n",
              "</div>\n",
              "\n",
              "    </div>\n",
              "  </div>\n"
            ],
            "application/vnd.google.colaboratory.intrinsic+json": {
              "type": "dataframe",
              "summary": "{\n  \"name\": \"ratings_movies\",\n  \"rows\": 8,\n  \"fields\": [\n    {\n      \"column\": \"rating\",\n      \"properties\": {\n        \"dtype\": \"number\",\n        \"std\": 3531.7744156175163,\n        \"min\": -0.971749807079156,\n        \"max\": 9991.0,\n        \"num_unique_values\": 8,\n        \"samples\": [\n          1.5023389783868781,\n          1.49540459540459,\n          9991.0\n        ],\n        \"semantic_type\": \"\",\n        \"description\": \"\"\n      }\n    }\n  ]\n}"
            }
          },
          "metadata": {},
          "execution_count": 28
        }
      ]
    },
    {
      "cell_type": "markdown",
      "source": [
        "**Implement SVD and SVD++ Models**"
      ],
      "metadata": {
        "id": "hoCI6Q_Xtm1e"
      }
    },
    {
      "cell_type": "code",
      "source": [
        "# SVD Model\n",
        "svd_model = SVD()\n",
        "svd_model.fit(trainset)\n",
        "\n",
        "# Make predictions with SVD\n",
        "svd_predictions = svd_model.test(testset)\n",
        "svd_mae = accuracy.mae(svd_predictions)\n",
        "# Evaluate SVD model\n",
        "print(\"SVD Model RMSE: \", accuracy.rmse(svd_predictions))\n",
        "print(\"SVD Model MAE: \", svd_mae)\n",
        "# SVD++ Model\n",
        "svdpp_model = SVDpp()\n",
        "svdpp_model.fit(trainset)\n",
        "svdpp_mae = accuracy.mae(svdpp_predictions)\n",
        "\n",
        "# Make predictions with SVD++\n",
        "svdpp_predictions = svdpp_model.test(testset)\n",
        "\n",
        "# Evaluate SVD++ model\n",
        "print(\"SVD++ Model RMSE: \", accuracy.rmse(svdpp_predictions))\n",
        "print(\"SVD++ Model MAE: \", svdpp_mae)"
      ],
      "metadata": {
        "colab": {
          "base_uri": "https://localhost:8080/"
        },
        "id": "abQmGez-oSZi",
        "outputId": "2003a0f0-542b-4c13-ee6c-fc1e371a3b06"
      },
      "execution_count": 32,
      "outputs": [
        {
          "output_type": "stream",
          "name": "stdout",
          "text": [
            "MAE:  1.1077\n",
            "RMSE: 1.2944\n",
            "SVD Model RMSE:  1.2944126263130653\n",
            "SVD Model MAE:  1.1077430200031726\n",
            "MAE:  1.1080\n",
            "RMSE: 1.2935\n",
            "SVD++ Model RMSE:  1.2935305800889867\n",
            "SVD++ Model MAE:  1.1080148093427393\n"
          ]
        }
      ]
    },
    {
      "cell_type": "markdown",
      "source": [
        "**User-Item and Item-Item Collaborative Filtering:**\n",
        "\n",
        "The KNNBasic class in the Surprise library can be used to implement User-Item and Item-Item collaborative filtering."
      ],
      "metadata": {
        "id": "xrj3L2bPtq2w"
      }
    },
    {
      "cell_type": "code",
      "source": [
        "# User-Item Collaborative Filtering\n",
        "user_item_cf = KNNBasic(sim_options={'name': 'cosine', 'user_based': True})\n",
        "user_item_cf.fit(trainset)\n",
        "\n",
        "# Item-Item Collaborative Filtering\n",
        "item_item_cf = KNNBasic(sim_options={'name': 'cosine', 'user_based': False})\n",
        "item_item_cf.fit(trainset)\n",
        "\n",
        "# Predictions for User-Item Collaborative Filtering\n",
        "user_item_predictions = user_item_cf.test(testset)\n",
        "print(\"User-Item CF RMSE: \", accuracy.rmse(user_item_predictions))\n",
        "\n",
        "# Predictions for Item-Item Collaborative Filtering\n",
        "item_item_predictions = item_item_cf.test(testset)\n",
        "print(\"Item-Item CF RMSE: \", accuracy.rmse(item_item_predictions))\n"
      ],
      "metadata": {
        "colab": {
          "base_uri": "https://localhost:8080/"
        },
        "id": "zirz6UhroXNl",
        "outputId": "1b8b824a-359f-4997-c685-fbbc187d26a4"
      },
      "execution_count": 30,
      "outputs": [
        {
          "output_type": "stream",
          "name": "stdout",
          "text": [
            "Computing the cosine similarity matrix...\n",
            "Done computing similarity matrix.\n",
            "Computing the cosine similarity matrix...\n",
            "Done computing similarity matrix.\n",
            "RMSE: 1.3879\n",
            "User-Item CF RMSE:  1.3879349590250145\n",
            "RMSE: 1.3782\n",
            "Item-Item CF RMSE:  1.3782277733423651\n"
          ]
        }
      ]
    },
    {
      "cell_type": "markdown",
      "source": [
        "**Generating Recommendations**"
      ],
      "metadata": {
        "id": "JnWNyDJPty-c"
      }
    },
    {
      "cell_type": "code",
      "source": [
        "def get_top_n(predictions, n=5):\n",
        "    # Map the predictions to each user\n",
        "    top_n = {}\n",
        "    for uid, iid, true_r, est, _ in predictions:\n",
        "        if uid not in top_n:\n",
        "            top_n[uid] = []\n",
        "        top_n[uid].append((iid, est))\n",
        "\n",
        "    # Sort the predictions for each user and retrieve the top n items\n",
        "    for uid, user_ratings in top_n.items():\n",
        "        user_ratings.sort(key=lambda x: x[1], reverse=True)\n",
        "        top_n[uid] = user_ratings[:n]\n",
        "\n",
        "    return top_n\n",
        "\n",
        "# Get top 5 recommendations for each user based on the SVD model\n",
        "top_n_svd = get_top_n(svd_predictions, n=5)\n",
        "\n",
        "# Display recommendations for a specific user (e.g., user ID 1)\n",
        "user_id = 1\n",
        "movie_ids = [iid for (iid, _) in top_n_svd[user_id]]\n",
        "recommended_movies = movies_df[movies_df['movieId'].isin(movie_ids)]\n",
        "\n",
        "print(f\"Recommended movies for User {user_id} based on SVD model:\")\n",
        "print(recommended_movies[['title', 'genres']])\n"
      ],
      "metadata": {
        "colab": {
          "base_uri": "https://localhost:8080/"
        },
        "id": "Wd1d0YG4oa4q",
        "outputId": "b7f0f2c1-7413-4538-d793-a70cddbaac0a"
      },
      "execution_count": 33,
      "outputs": [
        {
          "output_type": "stream",
          "name": "stdout",
          "text": [
            "Recommended movies for User 1 based on SVD model:\n",
            "                                         title                   genres\n",
            "31   Twelve Monkeys (a.k.a. 12 Monkeys) (1995)  Mystery|Sci-Fi|Thriller\n",
            "583          Terminator 2: Judgment Day (1991)            Action|Sci-Fi\n"
          ]
        }
      ]
    }
  ]
}